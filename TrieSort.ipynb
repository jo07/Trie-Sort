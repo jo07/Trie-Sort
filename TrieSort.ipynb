{
 "cells": [
  {
   "cell_type": "markdown",
   "metadata": {},
   "source": [
    "# TrieSort"
   ]
  },
  {
   "cell_type": "markdown",
   "metadata": {},
   "source": [
    " Sorting algorithm based on trie data structure"
   ]
  },
  {
   "cell_type": "markdown",
   "metadata": {},
   "source": [
    "> # Introduction\n",
    " We have comparison sorts like merge sort, insert sort, quick sort etc with best runtime complexity of O(nlogn) \n",
    " and we have non comparison sorts like radix, bucket sort and counting sort but with limitations.\n",
    " Today we are going to introduce TrieSort using the Trie data structure and using n comparisons. It's runtime \n",
    " complexity is O(nlogm) where m is the len(str(max(nums))) where nums is the input array. The log part doesn't depend\n",
    " on the number of items in the list and it's to the base 10. It's not a comparison sort and uses index to avoid\n",
    " comparisons. Let's begin"
   ]
  },
  {
   "cell_type": "markdown",
   "metadata": {},
   "source": [
    "> # The logic <br>\n",
    " Let's start from the simplest base case <br>\n",
    " Assume you have a dict (Trie is implemented using a recursive dict) and a list nums whose range is between 0 and 9\n",
    " Now if you keep inserting those elements in the dict with keys as the number itself you will have a dict like this"
   ]
  },
  {
   "cell_type": "code",
   "execution_count": 37,
   "metadata": {},
   "outputs": [],
   "source": [
    "from random import randrange\n",
    "import collections\n",
    "# the dictionary we are gonna use to sort. \n",
    "sort_dict = collections.defaultdict(list)\n",
    "for i in range(0, 9):\n",
    "    el = randrange(10)\n",
    "    sort_dict[el] = True # Value doesn't matter. Yet"
   ]
  },
  {
   "cell_type": "code",
   "execution_count": 23,
   "metadata": {},
   "outputs": [
    {
     "data": {
      "text/plain": [
       "defaultdict(list, {1: True, 8: True, 9: True, 0: True, 7: True, 2: True})"
      ]
     },
     "execution_count": 23,
     "metadata": {},
     "output_type": "execute_result"
    }
   ],
   "source": [
    "sort_dict # we can see there were some duplicate numbers also. Don't worry we will take care of it later"
   ]
  },
  {
   "cell_type": "markdown",
   "metadata": {},
   "source": [
    ">   ## Pay attention. \n",
    "This is the trick. We know the dict have numbers from zero to nine. If we try every key from zero to nine some might be present others might not. We put everything that is present in a list in that order then we technically have our sorted list. Without any comparisons at all. "
   ]
  },
  {
   "cell_type": "markdown",
   "metadata": {},
   "source": [
    "Don't get too excited, we will need comparisons later."
   ]
  },
  {
   "cell_type": "code",
   "execution_count": 24,
   "metadata": {},
   "outputs": [
    {
     "data": {
      "text/plain": [
       "[0, 1, 2, 7, 8, 9]"
      ]
     },
     "execution_count": 24,
     "metadata": {},
     "output_type": "execute_result"
    }
   ],
   "source": [
    "sorted_list = [x for x in range(10) if sort_dict.get(x)]\n",
    "sorted_list"
   ]
  },
  {
   "cell_type": "markdown",
   "metadata": {},
   "source": [
    "> # TADA!!!"
   ]
  },
  {
   "cell_type": "markdown",
   "metadata": {},
   "source": [
    "Is it good? Someone just have one element to sort or two. Triesort will still create a dict and loop through zero to ninne to find out which digit that is. It might look like for small data set the comparison sorts are better. Too bad."
   ]
  },
  {
   "cell_type": "markdown",
   "metadata": {},
   "source": [
    "And also we sorted numbers who have only one digit each. Some guy might ask "
   ]
  },
  {
   "cell_type": "markdown",
   "metadata": {},
   "source": [
    ">  What if we had list of numbers upto 100 to sort?? "
   ]
  },
  {
   "cell_type": "markdown",
   "metadata": {},
   "source": [
    " #### Opinion. \n",
    " 'Guy' should be gender neutral."
   ]
  },
  {
   "cell_type": "markdown",
   "metadata": {},
   "source": [
    " #### Popular opinion.\n",
    " That guy could have asked for numbers upto 1000 to sort or a thousand million (billion!?). But let's take 100 for sake of simplicity.\n"
   ]
  },
  {
   "cell_type": "markdown",
   "metadata": {},
   "source": [
    " We can use a dict with 100 keys but where is the fun in that? Also it's not very efficient if you get two numbers to sort and one is one and other is one million. You would need to loop over a million keys to sort it. Doesn't sound TADA."
   ]
  },
  {
   "cell_type": "markdown",
   "metadata": {},
   "source": [
    "> In comes the <b>Trie Data Structure.</b> Mostly used in autocompletion or for checking prefix."
   ]
  },
  {
   "cell_type": "markdown",
   "metadata": {},
   "source": [
    "# Pay some more attention\n",
    "With Trie you can build the tree with each digit of the numbers in the list. If we have a 5 in the list and the max value in the list is 99 then we would need two layer of the trie nodes. And 5 won't be just 5, it would be 05. Makes a big difference."
   ]
  },
  {
   "cell_type": "code",
   "execution_count": 1,
   "metadata": {},
   "outputs": [],
   "source": [
    "import collections\n",
    "class TrieNode:\n",
    "    def __init__(self):\n",
    "        self.children = collections.defaultdict(TrieNode)\n",
    "        \n",
    "class Trie:\n",
    "    def __init__(self):\n",
    "        self.root = TrieNode()\n",
    "\n",
    "    def insert(self, word):\n",
    "        current = self.root\n",
    "        for w in word:\n",
    "            current = current.children[w]"
   ]
  },
  {
   "cell_type": "markdown",
   "metadata": {},
   "source": [
    "That's our trie implementation, nothing special. Let's build the TrieSort class"
   ]
  },
  {
   "cell_type": "code",
   "execution_count": 4,
   "metadata": {},
   "outputs": [],
   "source": [
    "class TrieSort:\n",
    "    def __init__(self):\n",
    "        self.res = []\n",
    "        \n",
    "    def buildTrie(self, nums):\n",
    "        trie = Trie()\n",
    "        max_num_len = len(str(max(nums))) # We get the highest number's no. of digits \n",
    "        for num in nums:\n",
    "            num_len = len(str(num))\n",
    "            zero_len = max_num_len - num_len # Substitute with zeros if it don't have the max len\n",
    "            trie.insert('0'* zero_len + str(num))\n",
    "        return trie.root"
   ]
  },
  {
   "cell_type": "code",
   "execution_count": 15,
   "metadata": {},
   "outputs": [],
   "source": [
    "trie_sort = TrieSort()\n",
    "trie = trie_sort.buildTrie([5, 55, 435, 666, 12321, 55, 5])"
   ]
  },
  {
   "cell_type": "markdown",
   "metadata": {},
   "source": [
    "The biggest number in the list is 12321 which has 5 digits. So the element 5 or 55 or 435 all should have 5 elements\n",
    "for this to work. So we put zeroes in front of them\n"
   ]
  },
  {
   "cell_type": "raw",
   "metadata": {},
   "source": [
    "                                                root\n",
    "                                              /      \\\n",
    "                                             0        1\n",
    "                                            /          \\\n",
    "                                           0            2\n",
    "                                        /  |  \\          \\\n",
    "                                      0    4   6          3\n",
    "                                    /   \\  |    \\          \\\n",
    "                                   0    5  3     6          2\n",
    "                                  /     |  |     |          |\n",
    "                                 5      5  5     6          1"
   ]
  },
  {
   "cell_type": "code",
   "execution_count": 16,
   "metadata": {
    "scrolled": true
   },
   "outputs": [
    {
     "data": {
      "text/plain": [
       "defaultdict(__main__.TrieNode,\n",
       "            {'0': <__main__.TrieNode at 0x7fdb4f67cd00>,\n",
       "             '1': <__main__.TrieNode at 0x7fdb4fda6f70>})"
      ]
     },
     "execution_count": 16,
     "metadata": {},
     "output_type": "execute_result"
    }
   ],
   "source": [
    "trie.children"
   ]
  },
  {
   "cell_type": "code",
   "execution_count": 17,
   "metadata": {},
   "outputs": [
    {
     "data": {
      "text/plain": [
       "defaultdict(__main__.TrieNode, {'2': <__main__.TrieNode at 0x7fdb4fda6d30>})"
      ]
     },
     "execution_count": 17,
     "metadata": {},
     "output_type": "execute_result"
    }
   ],
   "source": [
    "trie.children['1'].children "
   ]
  },
  {
   "cell_type": "code",
   "execution_count": 18,
   "metadata": {},
   "outputs": [
    {
     "data": {
      "text/plain": [
       "defaultdict(__main__.TrieNode, {'0': <__main__.TrieNode at 0x7fdb4f682250>})"
      ]
     },
     "execution_count": 18,
     "metadata": {},
     "output_type": "execute_result"
    }
   ],
   "source": [
    "trie.children['0'].children "
   ]
  },
  {
   "cell_type": "code",
   "execution_count": 14,
   "metadata": {},
   "outputs": [
    {
     "data": {
      "text/plain": [
       "defaultdict(__main__.TrieNode,\n",
       "            {'0': <__main__.TrieNode at 0x7fdb4fd7ed30>,\n",
       "             '4': <__main__.TrieNode at 0x7fdb4f3f6bb0>,\n",
       "             '6': <__main__.TrieNode at 0x7fdb4f3f69d0>})"
      ]
     },
     "execution_count": 14,
     "metadata": {},
     "output_type": "execute_result"
    }
   ],
   "source": [
    "trie.children['0'].children['0'].children"
   ]
  },
  {
   "cell_type": "markdown",
   "metadata": {},
   "source": [
    "The '1' node at the immediate child of root have 2,3,2,1 in it's depth nodes in subsequent layers and '0' have '0' and you see the pattern right?\n",
    "<br> That '4' in the third layer of '0' node belongs to the number '435' and '6' belongs to '666' and '0' belongs to '55' and also the '05' in there"
   ]
  },
  {
   "cell_type": "markdown",
   "metadata": {},
   "source": [
    "> # The logic II - Sorting the list?<br>\n",
    "From here it's easy but still pay attention, you do a dfs through this trie at each node and at each node you don't look for the keys, you know the keys will be in the range zero to nine at every node. Why not loop over it through that range? We loop in the order, obviously, and we ignore the values for which the nodes are missing. "
   ]
  },
  {
   "cell_type": "code",
   "execution_count": 24,
   "metadata": {},
   "outputs": [],
   "source": [
    "    def trieSort(self, node, word, depth):\n",
    "        for i in range(0, 10):\n",
    "            i = str(i)\n",
    "            if not node.children.get(i):\n",
    "                continue\n",
    "            if depth == max_num_len-1: \n",
    "                self.res.append(int(word+i))\n",
    "            self.joSort(node.children.get(i), word + i, depth +1)"
   ]
  },
  {
   "cell_type": "markdown",
   "metadata": {},
   "source": [
    " It's part of the TrieSort class and just updates the 'res' variable with the sorted results. 'res' is updated only when we are in the leaf node."
   ]
  },
  {
   "cell_type": "markdown",
   "metadata": {},
   "source": [
    "> # TADA!!!"
   ]
  },
  {
   "cell_type": "markdown",
   "metadata": {},
   "source": [
    "That same guy comes around and asks about duplicates. If you have used trie before you would by now know what to do."
   ]
  },
  {
   "cell_type": "markdown",
   "metadata": {},
   "source": [
    "> # The logic III - Handle duplicates<br>\n",
    "In our trie class we can add another variable called count, which as you have already guessed, counts the number of times that node has been visited. We just need to update the leaf nodes. Let's update the code"
   ]
  },
  {
   "cell_type": "code",
   "execution_count": 23,
   "metadata": {},
   "outputs": [],
   "source": [
    "import collections\n",
    "class TrieNode:\n",
    "    def __init__(self):\n",
    "        self.children = collections.defaultdict(TrieNode)\n",
    "        # count variable\n",
    "        self.count = 0\n",
    "        \n",
    "class Trie:\n",
    "    def __init__(self):\n",
    "        self.root = TrieNode()\n",
    "\n",
    "    def insert(self, word):\n",
    "        current = self.root\n",
    "        for w in word:\n",
    "            current = current.children[w]\n",
    "        # update at the leaf node\n",
    "        current.count += 1"
   ]
  },
  {
   "cell_type": "markdown",
   "metadata": {},
   "source": [
    "Now the buildTrie method can remain the change but we need to update the trieSort method to accomodate duplicates"
   ]
  },
  {
   "cell_type": "code",
   "execution_count": 26,
   "metadata": {},
   "outputs": [],
   "source": [
    "    def trieSort(self, node, word, depth):\n",
    "        for i in range(0, 10):\n",
    "            i = str(i)\n",
    "            if not node.children.get(i):\n",
    "                continue\n",
    "            if depth == max_num_len-1:\n",
    "                # append the number as much times as the count\n",
    "                self.res += [int(word+i)] * node.children.get(i).count\n",
    "            self.joSort(node.children.get(i), word + i, depth +1)"
   ]
  },
  {
   "cell_type": "markdown",
   "metadata": {},
   "source": [
    "I believe that's another TADA moment"
   ]
  },
  {
   "cell_type": "markdown",
   "metadata": {},
   "source": [
    "> # TADA!!!"
   ]
  },
  {
   "cell_type": "markdown",
   "metadata": {},
   "source": [
    "# Now let's put it all together.\n"
   ]
  },
  {
   "cell_type": "code",
   "execution_count": 34,
   "metadata": {},
   "outputs": [],
   "source": [
    "import collections\n",
    "class TrieNode:\n",
    "    def __init__(self):\n",
    "        self.children = collections.defaultdict(TrieNode)\n",
    "        self.count = 0\n",
    "        \n",
    "class Trie:\n",
    "    def __init__(self):\n",
    "        self.root = TrieNode()\n",
    "\n",
    "    def insert(self, word):\n",
    "        current = self.root\n",
    "        for w in word:\n",
    "            current = current.children[w]\n",
    "        current.count += 1\n",
    "\n",
    "class TrieSort:\n",
    "    def __init__(self):\n",
    "        self.res = []\n",
    "        self.max_num_len = 0\n",
    "        \n",
    "    def buildTrie(self, nums):\n",
    "        trie = Trie()\n",
    "        self.max_num_len = len(str(max(nums))) # We get the highest number's max value of digits \n",
    "        for num in nums:\n",
    "            num_len = len(str(num))\n",
    "            zero_len = self.max_num_len - num_len\n",
    "            trie.insert('0'* zero_len + str(num))\n",
    "        return trie.root\n",
    "\n",
    "    def trieSort(self, node, word, depth):\n",
    "        for i in range(0, 10):\n",
    "            i = str(i)\n",
    "            if not node.children.get(i):\n",
    "                continue\n",
    "            if depth == self.max_num_len-1:\n",
    "                self.res += [int(word+i)] * node.children.get(i).count\n",
    "            self.trieSort(node.children.get(i), word + i, depth +1)\n",
    "            \n",
    "    def sort(self, nums):\n",
    "        trie = self.buildTrie(nums)\n",
    "        # we start at root node with an empty word and at depth zero\n",
    "        self.trieSort(trie, \"\", 0)\n",
    "        return self.res"
   ]
  },
  {
   "cell_type": "code",
   "execution_count": 35,
   "metadata": {},
   "outputs": [
    {
     "data": {
      "text/plain": [
       "[5, 5, 55, 55, 435, 666, 12321]"
      ]
     },
     "execution_count": 35,
     "metadata": {},
     "output_type": "execute_result"
    }
   ],
   "source": [
    "TrieSort().sort([5, 55, 435, 666, 12321, 55, 5])"
   ]
  },
  {
   "cell_type": "markdown",
   "metadata": {},
   "source": [
    "Let's have a laugh and look into the time and space complexities"
   ]
  },
  {
   "cell_type": "markdown",
   "metadata": {},
   "source": [
    "> # BU HA HA HA HA !"
   ]
  },
  {
   "cell_type": "markdown",
   "metadata": {},
   "source": [
    " # Time complexity\n",
    "Building the Trie: For each node it takes log(len(str(max(nums))) to the base 10. For m digits (len(str(max(nums)))) in maximum value it would take O(nLogm) time to insert each value into the trie <br><br>\n",
    "trieSort method is gonna take atmost O(nlog m) time. Duplicates makes this function more efficient. Also the for loop in trieSort runs exactly 10 times at a node. <br> <br>\n",
    "Finding the max value in the array is gonna take O(n) time. <br> <br>\n",
    "So max time complexity in worst case would be O(nlog m). 'm' is len(str(max(nums))) which doesn't depend on n, the number of elements, but the elements to be sorted\n",
    "\n"
   ]
  },
  {
   "cell_type": "markdown",
   "metadata": {},
   "source": [
    " # Space complexity\n",
    "At worst case where we have all the numbers from 0 to 10^m - 1 is present we will need atmost O(nlog m) (to the base 10) space"
   ]
  },
  {
   "cell_type": "markdown",
   "metadata": {},
   "source": [
    "The same gender neutral guy comes back and asks what about the negative numbers or the alphabhets and special characters or the decimals. We tell them the same thing we say to the god of death."
   ]
  },
  {
   "cell_type": "markdown",
   "metadata": {},
   "source": [
    "PS: It's easy. Need one layer at the top to assign the sign of the value. Two nodes, plus and minus. <br><br>\n",
    "Alphabets and special characters can also be easily accomodated. Instead of range from zero to nine, we add them too. That will affect the time and space complexities<br><br>\n",
    "Decimals are also easy. Just need to add a '.' node after the max_num_len depth node."
   ]
  },
  {
   "cell_type": "markdown",
   "metadata": {},
   "source": [
    "> # Conclusion\n",
    "This is too good to be true. Lemme know how I'm making an arse of myself. <br><br> You can also convert them into binaries and the time and space complexities would still be O(nlogm) but log to the base 2. and m would be log(len(str(max(nums))) to the base 2. 2*50 or 10*10. Need to confirm if it makes any difference. Lemme know."
   ]
  },
  {
   "cell_type": "code",
   "execution_count": null,
   "metadata": {},
   "outputs": [],
   "source": []
  }
 ],
 "metadata": {
  "kernelspec": {
   "display_name": "Python 3",
   "language": "python",
   "name": "python3"
  },
  "language_info": {
   "codemirror_mode": {
    "name": "ipython",
    "version": 3
   },
   "file_extension": ".py",
   "mimetype": "text/x-python",
   "name": "python",
   "nbconvert_exporter": "python",
   "pygments_lexer": "ipython3",
   "version": "3.8.3"
  }
 },
 "nbformat": 4,
 "nbformat_minor": 4
}
