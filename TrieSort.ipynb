{
 "cells": [
  {
   "cell_type": "markdown",
   "metadata": {},
   "source": [
    "# TrieSort"
   ]
  },
  {
   "cell_type": "markdown",
   "metadata": {},
   "source": [
    " Sorting algorithm based on trie data structure"
   ]
  },
  {
   "cell_type": "markdown",
   "metadata": {},
   "source": [
    "> # Introduction\n",
    " We have comparison sorts like merge sort, insert sort, quick sort etc with best runtime complexity of O(nlogn) \n",
    " and we have non comparison sorts like radix, bucket sort and counting sort but with limitations\n",
    " Today we are going to introduce TrieSort using the Trie data structure and using n comparisons. It's runtime \n",
    " complexity is O(nlogk) where k is the len(str(max(nums))) where nums is the input array. The log part doesn't depend\n",
    " on the number of items in the list and it's to the base 10. It's not a comparison sort and uses index to avoid\n",
    " comparisons. Let's begin"
   ]
  },
  {
   "cell_type": "markdown",
   "metadata": {},
   "source": [
    "> # The logic <br>\n",
    " Let's start from the simplest base case <br>\n",
    " Assume you have a dict (Trie is implemented using a recursive dict) and a list nums whose range is between 0 and 9\n",
    " Now if you keep inserting those elements in the dict with keys as the number itself you will have a dict like this"
   ]
  },
  {
   "cell_type": "code",
   "execution_count": 22,
   "metadata": {},
   "outputs": [],
   "source": [
    "from random import randrange\n",
    "import collections\n",
    "# the dictionary we are gonna use to sort. \n",
    "sort_dict = collections.defaultdict(list)\n",
    "for i in range(0, 9):\n",
    "    el = randrange(10)\n",
    "    sort_dict[el] = True # Value doesn't matter. Yet"
   ]
  },
  {
   "cell_type": "code",
   "execution_count": 23,
   "metadata": {},
   "outputs": [
    {
     "data": {
      "text/plain": [
       "defaultdict(list, {1: True, 8: True, 9: True, 0: True, 7: True, 2: True})"
      ]
     },
     "execution_count": 23,
     "metadata": {},
     "output_type": "execute_result"
    }
   ],
   "source": [
    "sort_dict # we can see there were some duplicate numbers also. Don't worry we will take care of it later"
   ]
  },
  {
   "cell_type": "markdown",
   "metadata": {},
   "source": [
    ">   ## Pay attention. \n",
    "This is the trick. We know the dict have numbers from zero to nine. If we try every key from zero to nine some might be present others might not. We put everything that is present in a list in that order then we technically have our sorted list. Without any comparisons at all. "
   ]
  },
  {
   "cell_type": "markdown",
   "metadata": {},
   "source": [
    "Don't get too excited, we will need comparisons later."
   ]
  },
  {
   "cell_type": "code",
   "execution_count": 24,
   "metadata": {},
   "outputs": [
    {
     "data": {
      "text/plain": [
       "[0, 1, 2, 7, 8, 9]"
      ]
     },
     "execution_count": 24,
     "metadata": {},
     "output_type": "execute_result"
    }
   ],
   "source": [
    "sorted_list = [x for x in range(10) if sort_dict.get(x)]\n",
    "sorted_list"
   ]
  },
  {
   "cell_type": "markdown",
   "metadata": {},
   "source": [
    "> # TADA!!!"
   ]
  },
  {
   "cell_type": "markdown",
   "metadata": {},
   "source": [
    "Is it good? Someone just have one element to sort or two. Triesort will still create a dict and loop through zero to ninne to find out which digit that is. It might look like for small data set the comparison sorts are better. Too bad."
   ]
  },
  {
   "cell_type": "markdown",
   "metadata": {},
   "source": [
    "And alsw we sorted numbers who have only one digit each. Some guy might ask "
   ]
  },
  {
   "cell_type": "markdown",
   "metadata": {},
   "source": [
    ">  What if we had list of numbers upto 100 to sort?? "
   ]
  },
  {
   "cell_type": "markdown",
   "metadata": {},
   "source": [
    " #### Opinion. \n",
    " 'Guy' should be gender neutral."
   ]
  },
  {
   "cell_type": "markdown",
   "metadata": {},
   "source": [
    " #### Popular opinion.\n",
    " That guy could have asked for numbers upto 1000 to sort or a thousand million (billion!?). But let's take 100 for sake of simplicity"
   ]
  },
  {
   "cell_type": "code",
   "execution_count": null,
   "metadata": {},
   "outputs": [],
   "source": []
  }
 ],
 "metadata": {
  "kernelspec": {
   "display_name": "Python 3",
   "language": "python",
   "name": "python3"
  },
  "language_info": {
   "codemirror_mode": {
    "name": "ipython",
    "version": 3
   },
   "file_extension": ".py",
   "mimetype": "text/x-python",
   "name": "python",
   "nbconvert_exporter": "python",
   "pygments_lexer": "ipython3",
   "version": "3.8.3"
  }
 },
 "nbformat": 4,
 "nbformat_minor": 4
}
